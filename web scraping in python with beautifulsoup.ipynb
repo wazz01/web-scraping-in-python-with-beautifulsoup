{
 "cells": [
  {
   "cell_type": "code",
   "execution_count": 1,
   "metadata": {},
   "outputs": [],
   "source": [
    "## Import Libraries\n",
    "import requests\n",
    "from bs4 import BeautifulSoup"
   ]
  },
  {
   "cell_type": "code",
   "execution_count": 2,
   "metadata": {},
   "outputs": [],
   "source": [
    "## Import URL\n",
    "URL = 'https://www.monster.com/jobs/search/?q=Software-Developer&where=Australia'\n",
    "page = requests.get(URL)"
   ]
  },
  {
   "cell_type": "code",
   "execution_count": 3,
   "metadata": {},
   "outputs": [],
   "source": [
    "## Make a BeautifulSoup object \n",
    "soup=BeautifulSoup(page.content,'html.parser')"
   ]
  },
  {
   "cell_type": "code",
   "execution_count": 4,
   "metadata": {},
   "outputs": [],
   "source": [
    "results = soup.find(id='ResultsContainer')"
   ]
  },
  {
   "cell_type": "code",
   "execution_count": 5,
   "metadata": {},
   "outputs": [],
   "source": [
    "job_elems = results.find_all('section', class_='card-content')"
   ]
  },
  {
   "cell_type": "markdown",
   "metadata": {},
   "source": [
    "## Saving it as CSV"
   ]
  },
  {
   "cell_type": "code",
   "execution_count": 16,
   "metadata": {},
   "outputs": [],
   "source": [
    "import csv"
   ]
  },
  {
   "cell_type": "code",
   "execution_count": 17,
   "metadata": {},
   "outputs": [],
   "source": [
    "# Open writer with name\n",
    "file_name = \"job.csv\""
   ]
  },
  {
   "cell_type": "code",
   "execution_count": 18,
   "metadata": {},
   "outputs": [],
   "source": [
    "# set newline to be '' so that that new rows are appended without skipping any\n",
    "f = csv.writer(open(file_name, 'w', newline=''))"
   ]
  },
  {
   "cell_type": "code",
   "execution_count": 19,
   "metadata": {},
   "outputs": [
    {
     "data": {
      "text/plain": [
       "23"
      ]
     },
     "execution_count": 19,
     "metadata": {},
     "output_type": "execute_result"
    }
   ],
   "source": [
    "# write a new row as a header\n",
    "f.writerow(['Title', 'Compani', 'Address'])"
   ]
  },
  {
   "cell_type": "code",
   "execution_count": 20,
   "metadata": {},
   "outputs": [],
   "source": [
    "for job_elem in job_elems:\n",
    "    title_elem = job_elem.find('h2', class_='title') \n",
    "    company_elem = job_elem.find('div', class_='company')   \n",
    "    location_elem = job_elem.find('div', class_='location')\n",
    "    if None in (title_elem, company_elem, location_elem):\n",
    "        continue\n",
    "    #print('title', title_elem.text.strip())\n",
    "    #print('company', company_elem.text.strip())\n",
    "    #print('address', location_elem.text.strip())\n",
    "    #print()\n",
    "     # add the information as a row into the csv table\n",
    "    f.writerow([title_elem.text.strip(), company_elem.text.strip(), location_elem.text.strip()])"
   ]
  },
  {
   "cell_type": "code",
   "execution_count": 21,
   "metadata": {},
   "outputs": [],
   "source": [
    "import pandas as pd"
   ]
  },
  {
   "cell_type": "code",
   "execution_count": 22,
   "metadata": {},
   "outputs": [],
   "source": [
    "df = pd.read_csv(\"job.csv\")"
   ]
  },
  {
   "cell_type": "code",
   "execution_count": 20,
   "metadata": {},
   "outputs": [
    {
     "data": {
      "text/html": [
       "<div>\n",
       "<style scoped>\n",
       "    .dataframe tbody tr th:only-of-type {\n",
       "        vertical-align: middle;\n",
       "    }\n",
       "\n",
       "    .dataframe tbody tr th {\n",
       "        vertical-align: top;\n",
       "    }\n",
       "\n",
       "    .dataframe thead th {\n",
       "        text-align: right;\n",
       "    }\n",
       "</style>\n",
       "<table border=\"1\" class=\"dataframe\">\n",
       "  <thead>\n",
       "    <tr style=\"text-align: right;\">\n",
       "      <th></th>\n",
       "      <th>Title</th>\n",
       "      <th>Compani</th>\n",
       "      <th>Address</th>\n",
       "    </tr>\n",
       "  </thead>\n",
       "  <tbody>\n",
       "    <tr>\n",
       "      <th>0</th>\n",
       "      <td>SQL BI (SSRS, SSIS) developer for Blackboard -...</td>\n",
       "      <td>LanceSoft Inc</td>\n",
       "      <td>New york, WA</td>\n",
       "    </tr>\n",
       "    <tr>\n",
       "      <th>1</th>\n",
       "      <td>Python Developer</td>\n",
       "      <td>LanceSoft Inc</td>\n",
       "      <td>Woodlands, WA</td>\n",
       "    </tr>\n",
       "    <tr>\n",
       "      <th>2</th>\n",
       "      <td>Junior QA Analyst - Melbourne, Victoria</td>\n",
       "      <td>Mediaocean</td>\n",
       "      <td>Melbourne, VIC</td>\n",
       "    </tr>\n",
       "    <tr>\n",
       "      <th>3</th>\n",
       "      <td>Test Analyst</td>\n",
       "      <td>Dialog Group</td>\n",
       "      <td>Canberra, ACT</td>\n",
       "    </tr>\n",
       "    <tr>\n",
       "      <th>4</th>\n",
       "      <td>Test Consultant</td>\n",
       "      <td>Dialog Group</td>\n",
       "      <td>Brisbane, QLD</td>\n",
       "    </tr>\n",
       "    <tr>\n",
       "      <th>5</th>\n",
       "      <td>Customer Experience Technical Analyst - Sydney...</td>\n",
       "      <td>Mediaocean</td>\n",
       "      <td>Sydney, NSW</td>\n",
       "    </tr>\n",
       "    <tr>\n",
       "      <th>6</th>\n",
       "      <td>Senior Practice Manager - IES (WA)</td>\n",
       "      <td>Blue Ocean Ventures</td>\n",
       "      <td>New York, WA</td>\n",
       "    </tr>\n",
       "    <tr>\n",
       "      <th>7</th>\n",
       "      <td>Enterprise Account Executive</td>\n",
       "      <td>Zuora</td>\n",
       "      <td>Sydney, NSW</td>\n",
       "    </tr>\n",
       "    <tr>\n",
       "      <th>8</th>\n",
       "      <td>Senior Automation Tester</td>\n",
       "      <td>Dialog Group</td>\n",
       "      <td>Canberra, ACT</td>\n",
       "    </tr>\n",
       "    <tr>\n",
       "      <th>9</th>\n",
       "      <td>Software Developer (C# / ASP.NET) - Healthcare...</td>\n",
       "      <td>CyberCoders</td>\n",
       "      <td>Chesterfield, MO</td>\n",
       "    </tr>\n",
       "  </tbody>\n",
       "</table>\n",
       "</div>"
      ],
      "text/plain": [
       "                                               Title              Compani  \\\n",
       "0  SQL BI (SSRS, SSIS) developer for Blackboard -...        LanceSoft Inc   \n",
       "1                                   Python Developer        LanceSoft Inc   \n",
       "2            Junior QA Analyst - Melbourne, Victoria           Mediaocean   \n",
       "3                                       Test Analyst         Dialog Group   \n",
       "4                                    Test Consultant         Dialog Group   \n",
       "5  Customer Experience Technical Analyst - Sydney...           Mediaocean   \n",
       "6                 Senior Practice Manager - IES (WA)  Blue Ocean Ventures   \n",
       "7                       Enterprise Account Executive                Zuora   \n",
       "8                           Senior Automation Tester         Dialog Group   \n",
       "9  Software Developer (C# / ASP.NET) - Healthcare...          CyberCoders   \n",
       "\n",
       "            Address  \n",
       "0      New york, WA  \n",
       "1     Woodlands, WA  \n",
       "2    Melbourne, VIC  \n",
       "3     Canberra, ACT  \n",
       "4     Brisbane, QLD  \n",
       "5       Sydney, NSW  \n",
       "6      New York, WA  \n",
       "7       Sydney, NSW  \n",
       "8     Canberra, ACT  \n",
       "9  Chesterfield, MO  "
      ]
     },
     "execution_count": 20,
     "metadata": {},
     "output_type": "execute_result"
    }
   ],
   "source": [
    "df"
   ]
  },
  {
   "cell_type": "code",
   "execution_count": null,
   "metadata": {},
   "outputs": [],
   "source": []
  }
 ],
 "metadata": {
  "kernelspec": {
   "display_name": "Python 3",
   "language": "python",
   "name": "python3"
  },
  "language_info": {
   "codemirror_mode": {
    "name": "ipython",
    "version": 3
   },
   "file_extension": ".py",
   "mimetype": "text/x-python",
   "name": "python",
   "nbconvert_exporter": "python",
   "pygments_lexer": "ipython3",
   "version": "3.7.3"
  }
 },
 "nbformat": 4,
 "nbformat_minor": 2
}
